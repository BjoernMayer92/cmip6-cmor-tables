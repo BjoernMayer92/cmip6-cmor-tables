{
 "cells": [
  {
   "cell_type": "markdown",
   "metadata": {},
   "source": [
    "# 1 Import Packages"
   ]
  },
  {
   "cell_type": "code",
   "execution_count": 68,
   "metadata": {},
   "outputs": [],
   "source": [
    "import numpy as np  \n",
    "import json\n",
    "import subprocess\n",
    "from pathlib import Path\n",
    "import os\n",
    "from subprocess import Popen, PIPE"
   ]
  },
  {
   "cell_type": "markdown",
   "metadata": {},
   "source": [
    "# 2 Metadata"
   ]
  },
  {
   "cell_type": "code",
   "execution_count": 10,
   "metadata": {},
   "outputs": [],
   "source": [
    "project_dir = Path.cwd().parents[0]"
   ]
  },
  {
   "cell_type": "code",
   "execution_count": 11,
   "metadata": {},
   "outputs": [],
   "source": [
    "data_path = Path.cwd().parents[2]"
   ]
  },
  {
   "cell_type": "code",
   "execution_count": 12,
   "metadata": {},
   "outputs": [],
   "source": [
    "CV_path = os.path.join(project_dir, \"MIP_tables\", \"CMIP6_CV.json\")\n",
    "config_table_path = os.path.join(project_dir,\"config_tables\")\n",
    "MIP_table_path = os.path.join(project_dir,\"MIP_tables\")\n",
    "generate_cdocmorinfo_script_path = os.path.join(config_table_path,\"generate_cdocmorinfo.sh\")"
   ]
  },
  {
   "cell_type": "code",
   "execution_count": 13,
   "metadata": {},
   "outputs": [],
   "source": [
    "MIP_table_filename = \"CMIP6_Omon.json\"\n",
    "MIP_table_file = os.path.join(MIP_table_path,MIP_table_filename)"
   ]
  },
  {
   "cell_type": "code",
   "execution_count": 16,
   "metadata": {},
   "outputs": [],
   "source": [
    "import config as config"
   ]
  },
  {
   "cell_type": "markdown",
   "metadata": {},
   "source": [
    "# 4 Create cdocmorinfo"
   ]
  },
  {
   "cell_type": "code",
   "execution_count": 103,
   "metadata": {},
   "outputs": [],
   "source": [
    "command_dictionary = {}\n",
    "command_filenames = []\n",
    "\n",
    "for experiment_id in config.CV_dict[\"CV\"][\"experiment_id\"]:\n",
    "    activity_id = config.CV_dict[\"CV\"][\"experiment_id\"][experiment_id][\"activity_id\"][0]\n",
    "    \n",
    "    year_min_id = config.year_min[activity_id][experiment_id]\n",
    "    year_max_id = config.year_max[activity_id][experiment_id]\n",
    "    \n",
    "    command_dictionary[experiment_id] = {\"activity_id\":activity_id,\"realization_id\":{}}\n",
    "    \n",
    "    for realization_id in config.realization[activity_id][experiment_id]:\n",
    "        subprocess.Popen([generate_cdocmorinfo_script_path,str(activity_id),str(experiment_id),str(realization_id),str(data_path),str(config_table_path)])\n",
    "        if activity_id==\"GrandEnsemble\":\n",
    "            realization_str = \"lkm\"+str(realization_id).zfill(4)\n",
    "        if activity_id==\"LongRunMIP\":\n",
    "            realization_str = \"mpiesm-1.2.00\"\n",
    "\n",
    "        command_dictionary[experiment_id][realization_id] = []\n",
    "        input_data_path = os.path.join(data_path,activity_id,experiment_id, realization_str,\"rho\")\n",
    "            \n",
    "        cdocmorinfo_path = os.path.join(config_table_path,activity_id,experiment_id,str(realization_id))\n",
    "        cdocmorinfo_filename = \"_\".join([\"cdocmorinfo\",activity_id,experiment_id,str(realization_id)])\n",
    "        cdocmorinfo_file  = os.path.join(cdocmorinfo_path, cdocmorinfo_filename)\n",
    "        \n",
    "        command_dictionary[experiment_id][\"realization_id\"][realization_id] = []\n",
    "        \n",
    "        bash_filename = \"_\".join([activity_id, experiment_id, str(realization_id)])+\".sh\"\n",
    "        command_filenames.append(bash_filename)\n",
    "        \n",
    "        with open(bash_filename,\"w\") as file:\n",
    "            for year_id in range(year_min_id, year_max_id+1):\n",
    "\n",
    "                input_data_filename = \"_\".join([activity_id,experiment_id,realization_str,\"rho\",str(year_id)])+\".nc\"\n",
    "                input_data_file = os.path.join(input_data_path, input_data_filename)\n",
    "\n",
    "\n",
    "                assert os.path.exists(MIP_table_file) & os.path.exists(cdocmorinfo_file) & os.path.exists(input_data_file)\n",
    "\n",
    "                cmorization_string = \"cdo cmor,{},i={} {}\".format(MIP_table_file,cdocmorinfo_file, input_data_file)\n",
    "                command_dictionary[experiment_id][\"realization_id\"][realization_id].append(cmorization_string)\n",
    "                file.write(cmorization_string)\n",
    "                file.write(\"\\n\")\n",
    "        \n",
    "        os.system(\"chmod +x \"+bash_filename)\n",
    "\n",
    "            #print(cmorization_string)\n",
    "            #os.system(cmorization_string)\n"
   ]
  },
  {
   "cell_type": "markdown",
   "metadata": {},
   "source": [
    "# 5 Run in parallel"
   ]
  },
  {
   "cell_type": "code",
   "execution_count": 99,
   "metadata": {},
   "outputs": [],
   "source": [
    "processes = []\n",
    "\n",
    "for command_filename in command_filenames:\n",
    "    processes.append(subprocess.Popen([\"bash\",command_filename]))\n",
    "\n",
    "return_codes = [p.wait() for p in processes]"
   ]
  }
 ],
 "metadata": {
  "interpreter": {
   "hash": "ad759c4c32c66367b6f21ea072bc1559b21ad3622e3e590e6a7d4802af78404e"
  },
  "kernelspec": {
   "display_name": "phd",
   "language": "python",
   "name": "phd"
  },
  "language_info": {
   "codemirror_mode": {
    "name": "ipython",
    "version": 3
   },
   "file_extension": ".py",
   "mimetype": "text/x-python",
   "name": "python",
   "nbconvert_exporter": "python",
   "pygments_lexer": "ipython3",
   "version": "3.6.12"
  }
 },
 "nbformat": 4,
 "nbformat_minor": 4
}
