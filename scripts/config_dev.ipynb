{
 "cells": [
  {
   "cell_type": "markdown",
   "metadata": {},
   "source": [
    "# 1 Import Packages"
   ]
  },
  {
   "cell_type": "code",
   "execution_count": 234,
   "metadata": {},
   "outputs": [],
   "source": [
    "import numpy as np  \n",
    "import json\n",
    "import subprocess\n",
    "from pathlib import Path\n"
   ]
  },
  {
   "cell_type": "markdown",
   "metadata": {},
   "source": [
    "# 2 Metadata"
   ]
  },
  {
   "cell_type": "code",
   "execution_count": 235,
   "metadata": {},
   "outputs": [],
   "source": [
    "project_dir = Path.cwd().parents[0]"
   ]
  },
  {
   "cell_type": "code",
   "execution_count": 236,
   "metadata": {},
   "outputs": [],
   "source": [
    "CV_path = os.path.join(project_dir, \"MIP_tables\", \"CMIP6_CV.json\")\n",
    "config_table_path = os.path.join(project_dir,\"config_tables\")\n",
    "MIP_table_path = os.path.join(project_dir,\"MIP_tables\")\n",
    "data_path = os.path.join(project_dir,\"data\")\n",
    "generate_cdocmorinfo_script_path = os.path.join(config_table_path,\"generate_cdocmorinfo.sh\")"
   ]
  },
  {
   "cell_type": "code",
   "execution_count": 237,
   "metadata": {},
   "outputs": [],
   "source": [
    "MIP_table_filename = \"CMIP6_Omon.json\"\n",
    "MIP_table_file = os.path.join(MIP_table_path,MIP_table_filename)"
   ]
  },
  {
   "cell_type": "code",
   "execution_count": 240,
   "metadata": {},
   "outputs": [],
   "source": [
    "year_min = {\n",
    "    \"LongRunMIP\":\n",
    "    {\n",
    "        \"abrupt2xCO2\":1850,\n",
    "        \"abrupt4xCO2\":1850,\n",
    "        \"abrupt8xCO2\":1850,\n",
    "        \"abrupt16xCO2\":1850\n",
    "    },\n",
    "    \"GrandEnsemble\":\n",
    "    {\n",
    "    \"hist\":1850\n",
    "    }\n",
    "}\n",
    "\n",
    "year_max = {\n",
    "    \"LongRunMIP\":\n",
    "    {\n",
    "        \"abrupt2xCO2\":1860,\n",
    "        \"abrupt4xCO2\":1860,\n",
    "        \"abrupt8xCO2\":1860,\n",
    "        \"abrupt16xCO2\":1860\n",
    "    },\n",
    "    \"GrandEnsemble\":\n",
    "    {\n",
    "    \"hist\":1860\n",
    "    }\n",
    "}"
   ]
  },
  {
   "cell_type": "code",
   "execution_count": 241,
   "metadata": {},
   "outputs": [],
   "source": [
    "realization = {\n",
    "    \"LongRunMIP\":\n",
    "    {\n",
    "        \"abrupt2xCO2\":np.arange(1,2),\n",
    "        \"abrupt4xCO2\":np.arange(1,2),\n",
    "        \"abrupt8xCO2\":np.arange(1,2),\n",
    "        \"abrupt16xCO2\": np.arange(1,2)\n",
    "    },\n",
    "    \"GrandEnsemble\":\n",
    "    {\n",
    "        \"hist\":np.arange(1,2)\n",
    "    }\n",
    "    }"
   ]
  },
  {
   "cell_type": "markdown",
   "metadata": {},
   "source": [
    "# 3 Load Json"
   ]
  },
  {
   "cell_type": "code",
   "execution_count": 242,
   "metadata": {},
   "outputs": [],
   "source": [
    "with open(CV_path) as file:\n",
    "    CV_dict = json.load(file)"
   ]
  },
  {
   "cell_type": "markdown",
   "metadata": {},
   "source": [
    "# 4 Create cdocmorinfo"
   ]
  },
  {
   "cell_type": "code",
   "execution_count": 255,
   "metadata": {},
   "outputs": [],
   "source": [
    "for experiment_id in CV_dict[\"CV\"][\"experiment_id\"]:\n",
    "    activity_id = CV_dict[\"CV\"][\"experiment_id\"][experiment_id][\"activity_id\"][0]\n",
    "    \n",
    "    year_min_id = year_min[activity_id][experiment_id]\n",
    "    year_max_id = year_max[activity_id][experiment_id]\n",
    "    \n",
    "    \n",
    "    for realization_id in realization[activity_id][experiment_id]:\n",
    "        subprocess.Popen([generate_cdocmorinfo_script_path,str(activity_id),str(experiment_id),str(realization_id),str(data_path),str(config_table_path)])\n",
    "        if activity_id==\"GrandEnsemble\":\n",
    "            realization_str = \"lkm\"+str(realization_id).zfill(4)\n",
    "        if activity_id==\"LongRunMIP\":\n",
    "            realization_str = \"mpiesm-1.2.00\"\n",
    "\n",
    "\n",
    "        input_data_path = os.path.join(data_path,activity_id,experiment_id, realization_str,\"rho\")\n",
    "            \n",
    "        cdocmorinfo_path = os.path.join(config_table_path,activity_id,experiment_id,str(realization_id))\n",
    "        cdocmorinfo_filename = \"_\".join([\"cdocmorinfo\",activity_id,experiment_id,str(realization_id)])\n",
    "        cdocmorinfo_file  = os.path.join(cdocmorinfo_path, cdocmorinfo_filename)\n",
    "\n",
    "\n",
    "        \n",
    "        for year_id in range(year_min_id, year_max_id+1):\n",
    "            \n",
    "            input_data_filename = \"_\".join([activity_id,experiment_id,realization_str,\"rho\",str(year_id)])+\".nc\"\n",
    "            input_data_file = os.path.join(input_data_path, input_data_filename)\n",
    "\n",
    "            \n",
    "            assert os.path.exists(MIP_table_file) & os.path.exists(cdocmorinfo_file) & os.path.exists(input_data_file)\n",
    "\n",
    "            cmorization_string = \"cdo cmor,{},i={} {}\".format(MIP_table_file,cdocmorinfo_file, input_data_file)\n",
    "            os.system(cmorization_string)\n"
   ]
  }
 ],
 "metadata": {
  "interpreter": {
   "hash": "ad759c4c32c66367b6f21ea072bc1559b21ad3622e3e590e6a7d4802af78404e"
  },
  "kernelspec": {
   "display_name": "Python 3.6.12 ('climtools')",
   "language": "python",
   "name": "python3"
  },
  "language_info": {
   "codemirror_mode": {
    "name": "ipython",
    "version": 3
   },
   "file_extension": ".py",
   "mimetype": "text/x-python",
   "name": "python",
   "nbconvert_exporter": "python",
   "pygments_lexer": "ipython3",
   "version": "3.6.12"
  },
  "orig_nbformat": 4
 },
 "nbformat": 4,
 "nbformat_minor": 2
}
